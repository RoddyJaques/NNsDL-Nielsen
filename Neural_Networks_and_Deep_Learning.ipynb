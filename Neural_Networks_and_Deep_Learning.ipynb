{
  "nbformat": 4,
  "nbformat_minor": 0,
  "metadata": {
    "colab": {
      "name": "Neural Networks and Deep Learning.ipynb",
      "provenance": [],
      "authorship_tag": "ABX9TyMTCtO8m+RPv53Ebfx1cK+W",
      "include_colab_link": true
    },
    "kernelspec": {
      "name": "python3",
      "display_name": "Python 3"
    },
    "language_info": {
      "name": "python"
    }
  },
  "cells": [
    {
      "cell_type": "markdown",
      "metadata": {
        "id": "view-in-github",
        "colab_type": "text"
      },
      "source": [
        "<a href=\"https://colab.research.google.com/github/RoddyJaques/NNsDL-Nielsen/blob/main/Neural_Networks_and_Deep_Learning.ipynb\" target=\"_parent\"><img src=\"https://colab.research.google.com/assets/colab-badge.svg\" alt=\"Open In Colab\"/></a>"
      ]
    },
    {
      "cell_type": "markdown",
      "source": [
        "# Neural Networks and Deep Learning\n",
        "Working through the exercises in  Michael Nielsen's book [Neural Networks and Deep Learning](http://neuralnetworksanddeeplearning.com/).\n",
        "\n",
        "##[Chapter 1](http://neuralnetworksanddeeplearning.com/chap1.html)\n",
        "*__Exercise 1:__ Suppose we take all the weights and biases in a network of perceptrons, and multiply them by a positive constant,* $c>0$ *. Show that the behaviour of the network doesn't change.*\n",
        "\n",
        "For a perceptron:<br>\n",
        "\\begin{eqnarray}\n",
        "  \\mbox{output} = \\left\\{ \n",
        "    \\begin{array}{ll} \n",
        "      0 & \\mbox{if } w\\cdot x + b \\leq 0 \\\\\n",
        "      1 & \\mbox{if } w\\cdot x + b > 0 \n",
        "    \\end{array}\n",
        "  \\right.\n",
        "\\end{eqnarray}\n",
        "\n",
        "If each inequality is multiplied by a positive constant *c*:\n",
        "\n",
        "\\begin{eqnarray} \n",
        "  c\\sum_j w_j x_j-cb \\leq 0 \\\\\n",
        "  c\\sum_j w_j x_j-cb > 0  \\\\\n",
        "\\end{eqnarray}\n",
        "\n",
        "The sign of the left hand side of the inequalities are unchanged, which determines the output of the perceptron and hence the output of perceptron in unchanged.<br><br>\n",
        "\n",
        "*__Exercise 2:__ Suppose we have the same setup as the last problem - a network of perceptrons. Suppose also that the overall input to the network of perceptrons has been chosen. We won't need the actual input value, we just need the input to have been fixed. Suppose the weights and biases are such that* $w \\cdot x + b \\neq 0$ *for the input* $x$ *to any particular perceptron in the network. Now replace all the perceptrons in the network by sigmoid neurons, and multiply the weights and biases by a positive constant* $c>0$ *. Show that in the limit as* $c→∞$ *the behaviour of this network of sigmoid neurons is exactly the same as the network of perceptrons. How can this fail when* $w⋅x+b=0$ *for one of the perceptrons?*\n",
        "\n",
        "For a sigmoid neuron with weights and biases multiplied by a positive constant $c>0$ :\n",
        "\n",
        "\\begin{eqnarray} \n",
        "  \\mbox{output} = \\frac{1}{1+\\exp(-c(\\sum_j w_j x_j+b))}\n",
        "\\end{eqnarray}\n",
        "\n",
        "In the limit $c→∞$ and $w⋅x+b < 0$:\n",
        "\n",
        "\\begin{eqnarray} \n",
        "  \\exp(-c(\\sum_j w_j x_j+b)) → \\exp(∞) → ∞\n",
        "\\end{eqnarray}\n",
        "so:\n",
        "\\begin{eqnarray} \n",
        "  \\frac{1}{1+\\exp(-c(\\sum_j w_j x_j+b))} → \\frac{1}{1+∞} → 0\n",
        "\\end{eqnarray}\n",
        "\n",
        "which is an equivalent result for the output a perceptron.<br>\n",
        "\n",
        "In the limit $c→∞$ and $w⋅x+b > 0$:\n",
        "\n",
        "\\begin{eqnarray} \n",
        "  \\exp(-c(\\sum_j w_j x_j+b)) → \\exp(-∞) → 0\n",
        "\\end{eqnarray}\n",
        "so:\n",
        "\\begin{eqnarray} \n",
        "  \\frac{1}{1+\\exp(-c(\\sum_j w_j x_j+b))} →\\frac{1}{1+0} → 1\n",
        "\\end{eqnarray}\n",
        "\n",
        "which is again an equivalent result for the output a perceptron.<br>\n",
        "\n",
        "\n",
        "In the limit $c→∞$ and $w⋅x+b = 0$:\n",
        "\\begin{eqnarray} \n",
        "  \\exp(-c(\\sum_j w_j x_j+b)) → \\exp(0) → 1\n",
        "\\end{eqnarray}\n",
        "so:\n",
        "\\begin{eqnarray} \n",
        "  \\frac{1}{1+\\exp(-c(\\sum_j w_j x_j+b))} →\\frac{1}{1+1} → 0.5\n",
        "\\end{eqnarray}\n",
        "\n",
        "for this case the output is different than the result for perceptron. Output would equal 0 for a perceptron.\n",
        "\n",
        "\n",
        "##[Chapter 2](http://neuralnetworksanddeeplearning.com/chap2.html)\n",
        "\n",
        "\n",
        "##[Chapter 3](http://neuralnetworksanddeeplearning.com/chap3.html)\n",
        "\n",
        "\n",
        "##[Chapter 4](http://neuralnetworksanddeeplearning.com/chap4.html)\n",
        "\n",
        "\n",
        "##[Chapter 5](http://neuralnetworksanddeeplearning.com/chap5.html)\n",
        "\n",
        "\n",
        "##[Chapter 6](http://neuralnetworksanddeeplearning.com/chap6.html)"
      ],
      "metadata": {
        "id": "R0etMtKs6Hh0"
      }
    },
    {
      "cell_type": "markdown",
      "source": [
        "http://neuralnetworksanddeeplearning.com/chap1.html#the_architecture_of_neural_networks"
      ],
      "metadata": {
        "id": "JXXjq4uOr72D"
      }
    }
  ]
}